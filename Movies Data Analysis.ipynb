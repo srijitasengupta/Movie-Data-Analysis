{
 "cells": [
  {
   "cell_type": "code",
   "execution_count": 2,
   "id": "96c89e22",
   "metadata": {},
   "outputs": [],
   "source": [
    "import pandas as pd\n",
    "import matplotlib.pyplot as plt\n",
    "import numpy as np"
   ]
  },
  {
   "cell_type": "code",
   "execution_count": 3,
   "id": "bf75410e",
   "metadata": {},
   "outputs": [
    {
     "data": {
      "text/html": [
       "<div>\n",
       "<style scoped>\n",
       "    .dataframe tbody tr th:only-of-type {\n",
       "        vertical-align: middle;\n",
       "    }\n",
       "\n",
       "    .dataframe tbody tr th {\n",
       "        vertical-align: top;\n",
       "    }\n",
       "\n",
       "    .dataframe thead th {\n",
       "        text-align: right;\n",
       "    }\n",
       "</style>\n",
       "<table border=\"1\" class=\"dataframe\">\n",
       "  <thead>\n",
       "    <tr style=\"text-align: right;\">\n",
       "      <th></th>\n",
       "      <th>id</th>\n",
       "      <th>imdb_id</th>\n",
       "      <th>popularity</th>\n",
       "      <th>budget</th>\n",
       "      <th>revenue</th>\n",
       "      <th>original_title</th>\n",
       "      <th>cast</th>\n",
       "      <th>homepage</th>\n",
       "      <th>director</th>\n",
       "      <th>tagline</th>\n",
       "      <th>...</th>\n",
       "      <th>overview</th>\n",
       "      <th>runtime</th>\n",
       "      <th>genres</th>\n",
       "      <th>production_companies</th>\n",
       "      <th>release_date</th>\n",
       "      <th>vote_count</th>\n",
       "      <th>vote_average</th>\n",
       "      <th>release_year</th>\n",
       "      <th>budget_adj</th>\n",
       "      <th>revenue_adj</th>\n",
       "    </tr>\n",
       "  </thead>\n",
       "  <tbody>\n",
       "    <tr>\n",
       "      <th>0</th>\n",
       "      <td>135397</td>\n",
       "      <td>tt0369610</td>\n",
       "      <td>32.985763</td>\n",
       "      <td>150000000</td>\n",
       "      <td>1513528810</td>\n",
       "      <td>Jurassic World</td>\n",
       "      <td>Chris Pratt|Bryce Dallas Howard|Irrfan Khan|Vi...</td>\n",
       "      <td>http://www.jurassicworld.com/</td>\n",
       "      <td>Colin Trevorrow</td>\n",
       "      <td>The park is open.</td>\n",
       "      <td>...</td>\n",
       "      <td>Twenty-two years after the events of Jurassic ...</td>\n",
       "      <td>124</td>\n",
       "      <td>Action|Adventure|Science Fiction|Thriller</td>\n",
       "      <td>Universal Studios|Amblin Entertainment|Legenda...</td>\n",
       "      <td>6/9/15</td>\n",
       "      <td>5562</td>\n",
       "      <td>6.5</td>\n",
       "      <td>2015</td>\n",
       "      <td>1.379999e+08</td>\n",
       "      <td>1.392446e+09</td>\n",
       "    </tr>\n",
       "    <tr>\n",
       "      <th>1</th>\n",
       "      <td>76341</td>\n",
       "      <td>tt1392190</td>\n",
       "      <td>28.419936</td>\n",
       "      <td>150000000</td>\n",
       "      <td>378436354</td>\n",
       "      <td>Mad Max: Fury Road</td>\n",
       "      <td>Tom Hardy|Charlize Theron|Hugh Keays-Byrne|Nic...</td>\n",
       "      <td>http://www.madmaxmovie.com/</td>\n",
       "      <td>George Miller</td>\n",
       "      <td>What a Lovely Day.</td>\n",
       "      <td>...</td>\n",
       "      <td>An apocalyptic story set in the furthest reach...</td>\n",
       "      <td>120</td>\n",
       "      <td>Action|Adventure|Science Fiction|Thriller</td>\n",
       "      <td>Village Roadshow Pictures|Kennedy Miller Produ...</td>\n",
       "      <td>5/13/15</td>\n",
       "      <td>6185</td>\n",
       "      <td>7.1</td>\n",
       "      <td>2015</td>\n",
       "      <td>1.379999e+08</td>\n",
       "      <td>3.481613e+08</td>\n",
       "    </tr>\n",
       "    <tr>\n",
       "      <th>2</th>\n",
       "      <td>262500</td>\n",
       "      <td>tt2908446</td>\n",
       "      <td>13.112507</td>\n",
       "      <td>110000000</td>\n",
       "      <td>295238201</td>\n",
       "      <td>Insurgent</td>\n",
       "      <td>Shailene Woodley|Theo James|Kate Winslet|Ansel...</td>\n",
       "      <td>http://www.thedivergentseries.movie/#insurgent</td>\n",
       "      <td>Robert Schwentke</td>\n",
       "      <td>One Choice Can Destroy You</td>\n",
       "      <td>...</td>\n",
       "      <td>Beatrice Prior must confront her inner demons ...</td>\n",
       "      <td>119</td>\n",
       "      <td>Adventure|Science Fiction|Thriller</td>\n",
       "      <td>Summit Entertainment|Mandeville Films|Red Wago...</td>\n",
       "      <td>3/18/15</td>\n",
       "      <td>2480</td>\n",
       "      <td>6.3</td>\n",
       "      <td>2015</td>\n",
       "      <td>1.012000e+08</td>\n",
       "      <td>2.716190e+08</td>\n",
       "    </tr>\n",
       "    <tr>\n",
       "      <th>3</th>\n",
       "      <td>140607</td>\n",
       "      <td>tt2488496</td>\n",
       "      <td>11.173104</td>\n",
       "      <td>200000000</td>\n",
       "      <td>2068178225</td>\n",
       "      <td>Star Wars: The Force Awakens</td>\n",
       "      <td>Harrison Ford|Mark Hamill|Carrie Fisher|Adam D...</td>\n",
       "      <td>http://www.starwars.com/films/star-wars-episod...</td>\n",
       "      <td>J.J. Abrams</td>\n",
       "      <td>Every generation has a story.</td>\n",
       "      <td>...</td>\n",
       "      <td>Thirty years after defeating the Galactic Empi...</td>\n",
       "      <td>136</td>\n",
       "      <td>Action|Adventure|Science Fiction|Fantasy</td>\n",
       "      <td>Lucasfilm|Truenorth Productions|Bad Robot</td>\n",
       "      <td>12/15/15</td>\n",
       "      <td>5292</td>\n",
       "      <td>7.5</td>\n",
       "      <td>2015</td>\n",
       "      <td>1.839999e+08</td>\n",
       "      <td>1.902723e+09</td>\n",
       "    </tr>\n",
       "    <tr>\n",
       "      <th>4</th>\n",
       "      <td>168259</td>\n",
       "      <td>tt2820852</td>\n",
       "      <td>9.335014</td>\n",
       "      <td>190000000</td>\n",
       "      <td>1506249360</td>\n",
       "      <td>Furious 7</td>\n",
       "      <td>Vin Diesel|Paul Walker|Jason Statham|Michelle ...</td>\n",
       "      <td>http://www.furious7.com/</td>\n",
       "      <td>James Wan</td>\n",
       "      <td>Vengeance Hits Home</td>\n",
       "      <td>...</td>\n",
       "      <td>Deckard Shaw seeks revenge against Dominic Tor...</td>\n",
       "      <td>137</td>\n",
       "      <td>Action|Crime|Thriller</td>\n",
       "      <td>Universal Pictures|Original Film|Media Rights ...</td>\n",
       "      <td>4/1/15</td>\n",
       "      <td>2947</td>\n",
       "      <td>7.3</td>\n",
       "      <td>2015</td>\n",
       "      <td>1.747999e+08</td>\n",
       "      <td>1.385749e+09</td>\n",
       "    </tr>\n",
       "    <tr>\n",
       "      <th>...</th>\n",
       "      <td>...</td>\n",
       "      <td>...</td>\n",
       "      <td>...</td>\n",
       "      <td>...</td>\n",
       "      <td>...</td>\n",
       "      <td>...</td>\n",
       "      <td>...</td>\n",
       "      <td>...</td>\n",
       "      <td>...</td>\n",
       "      <td>...</td>\n",
       "      <td>...</td>\n",
       "      <td>...</td>\n",
       "      <td>...</td>\n",
       "      <td>...</td>\n",
       "      <td>...</td>\n",
       "      <td>...</td>\n",
       "      <td>...</td>\n",
       "      <td>...</td>\n",
       "      <td>...</td>\n",
       "      <td>...</td>\n",
       "      <td>...</td>\n",
       "    </tr>\n",
       "    <tr>\n",
       "      <th>10861</th>\n",
       "      <td>21</td>\n",
       "      <td>tt0060371</td>\n",
       "      <td>0.080598</td>\n",
       "      <td>0</td>\n",
       "      <td>0</td>\n",
       "      <td>The Endless Summer</td>\n",
       "      <td>Michael Hynson|Robert August|Lord 'Tally Ho' B...</td>\n",
       "      <td>NaN</td>\n",
       "      <td>Bruce Brown</td>\n",
       "      <td>NaN</td>\n",
       "      <td>...</td>\n",
       "      <td>The Endless Summer, by Bruce Brown, is one of ...</td>\n",
       "      <td>95</td>\n",
       "      <td>Documentary</td>\n",
       "      <td>Bruce Brown Films</td>\n",
       "      <td>6/15/66</td>\n",
       "      <td>11</td>\n",
       "      <td>7.4</td>\n",
       "      <td>1966</td>\n",
       "      <td>0.000000e+00</td>\n",
       "      <td>0.000000e+00</td>\n",
       "    </tr>\n",
       "    <tr>\n",
       "      <th>10862</th>\n",
       "      <td>20379</td>\n",
       "      <td>tt0060472</td>\n",
       "      <td>0.065543</td>\n",
       "      <td>0</td>\n",
       "      <td>0</td>\n",
       "      <td>Grand Prix</td>\n",
       "      <td>James Garner|Eva Marie Saint|Yves Montand|Tosh...</td>\n",
       "      <td>NaN</td>\n",
       "      <td>John Frankenheimer</td>\n",
       "      <td>Cinerama sweeps YOU into a drama of speed and ...</td>\n",
       "      <td>...</td>\n",
       "      <td>Grand Prix driver Pete Aron is fired by his te...</td>\n",
       "      <td>176</td>\n",
       "      <td>Action|Adventure|Drama</td>\n",
       "      <td>Cherokee Productions|Joel Productions|Douglas ...</td>\n",
       "      <td>12/21/66</td>\n",
       "      <td>20</td>\n",
       "      <td>5.7</td>\n",
       "      <td>1966</td>\n",
       "      <td>0.000000e+00</td>\n",
       "      <td>0.000000e+00</td>\n",
       "    </tr>\n",
       "    <tr>\n",
       "      <th>10863</th>\n",
       "      <td>39768</td>\n",
       "      <td>tt0060161</td>\n",
       "      <td>0.065141</td>\n",
       "      <td>0</td>\n",
       "      <td>0</td>\n",
       "      <td>Beregis Avtomobilya</td>\n",
       "      <td>Innokentiy Smoktunovskiy|Oleg Efremov|Georgi Z...</td>\n",
       "      <td>NaN</td>\n",
       "      <td>Eldar Ryazanov</td>\n",
       "      <td>NaN</td>\n",
       "      <td>...</td>\n",
       "      <td>An insurance agent who moonlights as a carthie...</td>\n",
       "      <td>94</td>\n",
       "      <td>Mystery|Comedy</td>\n",
       "      <td>Mosfilm</td>\n",
       "      <td>1/1/66</td>\n",
       "      <td>11</td>\n",
       "      <td>6.5</td>\n",
       "      <td>1966</td>\n",
       "      <td>0.000000e+00</td>\n",
       "      <td>0.000000e+00</td>\n",
       "    </tr>\n",
       "    <tr>\n",
       "      <th>10864</th>\n",
       "      <td>21449</td>\n",
       "      <td>tt0061177</td>\n",
       "      <td>0.064317</td>\n",
       "      <td>0</td>\n",
       "      <td>0</td>\n",
       "      <td>What's Up, Tiger Lily?</td>\n",
       "      <td>Tatsuya Mihashi|Akiko Wakabayashi|Mie Hama|Joh...</td>\n",
       "      <td>NaN</td>\n",
       "      <td>Woody Allen</td>\n",
       "      <td>WOODY ALLEN STRIKES BACK!</td>\n",
       "      <td>...</td>\n",
       "      <td>In comic Woody Allen's film debut, he took the...</td>\n",
       "      <td>80</td>\n",
       "      <td>Action|Comedy</td>\n",
       "      <td>Benedict Pictures Corp.</td>\n",
       "      <td>11/2/66</td>\n",
       "      <td>22</td>\n",
       "      <td>5.4</td>\n",
       "      <td>1966</td>\n",
       "      <td>0.000000e+00</td>\n",
       "      <td>0.000000e+00</td>\n",
       "    </tr>\n",
       "    <tr>\n",
       "      <th>10865</th>\n",
       "      <td>22293</td>\n",
       "      <td>tt0060666</td>\n",
       "      <td>0.035919</td>\n",
       "      <td>19000</td>\n",
       "      <td>0</td>\n",
       "      <td>Manos: The Hands of Fate</td>\n",
       "      <td>Harold P. Warren|Tom Neyman|John Reynolds|Dian...</td>\n",
       "      <td>NaN</td>\n",
       "      <td>Harold P. Warren</td>\n",
       "      <td>It's Shocking! It's Beyond Your Imagination!</td>\n",
       "      <td>...</td>\n",
       "      <td>A family gets lost on the road and stumbles up...</td>\n",
       "      <td>74</td>\n",
       "      <td>Horror</td>\n",
       "      <td>Norm-Iris</td>\n",
       "      <td>11/15/66</td>\n",
       "      <td>15</td>\n",
       "      <td>1.5</td>\n",
       "      <td>1966</td>\n",
       "      <td>1.276423e+05</td>\n",
       "      <td>0.000000e+00</td>\n",
       "    </tr>\n",
       "  </tbody>\n",
       "</table>\n",
       "<p>10866 rows × 21 columns</p>\n",
       "</div>"
      ],
      "text/plain": [
       "           id    imdb_id  popularity     budget     revenue  \\\n",
       "0      135397  tt0369610   32.985763  150000000  1513528810   \n",
       "1       76341  tt1392190   28.419936  150000000   378436354   \n",
       "2      262500  tt2908446   13.112507  110000000   295238201   \n",
       "3      140607  tt2488496   11.173104  200000000  2068178225   \n",
       "4      168259  tt2820852    9.335014  190000000  1506249360   \n",
       "...       ...        ...         ...        ...         ...   \n",
       "10861      21  tt0060371    0.080598          0           0   \n",
       "10862   20379  tt0060472    0.065543          0           0   \n",
       "10863   39768  tt0060161    0.065141          0           0   \n",
       "10864   21449  tt0061177    0.064317          0           0   \n",
       "10865   22293  tt0060666    0.035919      19000           0   \n",
       "\n",
       "                     original_title  \\\n",
       "0                    Jurassic World   \n",
       "1                Mad Max: Fury Road   \n",
       "2                         Insurgent   \n",
       "3      Star Wars: The Force Awakens   \n",
       "4                         Furious 7   \n",
       "...                             ...   \n",
       "10861            The Endless Summer   \n",
       "10862                    Grand Prix   \n",
       "10863           Beregis Avtomobilya   \n",
       "10864        What's Up, Tiger Lily?   \n",
       "10865      Manos: The Hands of Fate   \n",
       "\n",
       "                                                    cast  \\\n",
       "0      Chris Pratt|Bryce Dallas Howard|Irrfan Khan|Vi...   \n",
       "1      Tom Hardy|Charlize Theron|Hugh Keays-Byrne|Nic...   \n",
       "2      Shailene Woodley|Theo James|Kate Winslet|Ansel...   \n",
       "3      Harrison Ford|Mark Hamill|Carrie Fisher|Adam D...   \n",
       "4      Vin Diesel|Paul Walker|Jason Statham|Michelle ...   \n",
       "...                                                  ...   \n",
       "10861  Michael Hynson|Robert August|Lord 'Tally Ho' B...   \n",
       "10862  James Garner|Eva Marie Saint|Yves Montand|Tosh...   \n",
       "10863  Innokentiy Smoktunovskiy|Oleg Efremov|Georgi Z...   \n",
       "10864  Tatsuya Mihashi|Akiko Wakabayashi|Mie Hama|Joh...   \n",
       "10865  Harold P. Warren|Tom Neyman|John Reynolds|Dian...   \n",
       "\n",
       "                                                homepage            director  \\\n",
       "0                          http://www.jurassicworld.com/     Colin Trevorrow   \n",
       "1                            http://www.madmaxmovie.com/       George Miller   \n",
       "2         http://www.thedivergentseries.movie/#insurgent    Robert Schwentke   \n",
       "3      http://www.starwars.com/films/star-wars-episod...         J.J. Abrams   \n",
       "4                               http://www.furious7.com/           James Wan   \n",
       "...                                                  ...                 ...   \n",
       "10861                                                NaN         Bruce Brown   \n",
       "10862                                                NaN  John Frankenheimer   \n",
       "10863                                                NaN      Eldar Ryazanov   \n",
       "10864                                                NaN         Woody Allen   \n",
       "10865                                                NaN    Harold P. Warren   \n",
       "\n",
       "                                                 tagline  ...  \\\n",
       "0                                      The park is open.  ...   \n",
       "1                                     What a Lovely Day.  ...   \n",
       "2                             One Choice Can Destroy You  ...   \n",
       "3                          Every generation has a story.  ...   \n",
       "4                                    Vengeance Hits Home  ...   \n",
       "...                                                  ...  ...   \n",
       "10861                                                NaN  ...   \n",
       "10862  Cinerama sweeps YOU into a drama of speed and ...  ...   \n",
       "10863                                                NaN  ...   \n",
       "10864                          WOODY ALLEN STRIKES BACK!  ...   \n",
       "10865       It's Shocking! It's Beyond Your Imagination!  ...   \n",
       "\n",
       "                                                overview runtime  \\\n",
       "0      Twenty-two years after the events of Jurassic ...     124   \n",
       "1      An apocalyptic story set in the furthest reach...     120   \n",
       "2      Beatrice Prior must confront her inner demons ...     119   \n",
       "3      Thirty years after defeating the Galactic Empi...     136   \n",
       "4      Deckard Shaw seeks revenge against Dominic Tor...     137   \n",
       "...                                                  ...     ...   \n",
       "10861  The Endless Summer, by Bruce Brown, is one of ...      95   \n",
       "10862  Grand Prix driver Pete Aron is fired by his te...     176   \n",
       "10863  An insurance agent who moonlights as a carthie...      94   \n",
       "10864  In comic Woody Allen's film debut, he took the...      80   \n",
       "10865  A family gets lost on the road and stumbles up...      74   \n",
       "\n",
       "                                          genres  \\\n",
       "0      Action|Adventure|Science Fiction|Thriller   \n",
       "1      Action|Adventure|Science Fiction|Thriller   \n",
       "2             Adventure|Science Fiction|Thriller   \n",
       "3       Action|Adventure|Science Fiction|Fantasy   \n",
       "4                          Action|Crime|Thriller   \n",
       "...                                          ...   \n",
       "10861                                Documentary   \n",
       "10862                     Action|Adventure|Drama   \n",
       "10863                             Mystery|Comedy   \n",
       "10864                              Action|Comedy   \n",
       "10865                                     Horror   \n",
       "\n",
       "                                    production_companies release_date  \\\n",
       "0      Universal Studios|Amblin Entertainment|Legenda...       6/9/15   \n",
       "1      Village Roadshow Pictures|Kennedy Miller Produ...      5/13/15   \n",
       "2      Summit Entertainment|Mandeville Films|Red Wago...      3/18/15   \n",
       "3              Lucasfilm|Truenorth Productions|Bad Robot     12/15/15   \n",
       "4      Universal Pictures|Original Film|Media Rights ...       4/1/15   \n",
       "...                                                  ...          ...   \n",
       "10861                                  Bruce Brown Films      6/15/66   \n",
       "10862  Cherokee Productions|Joel Productions|Douglas ...     12/21/66   \n",
       "10863                                            Mosfilm       1/1/66   \n",
       "10864                            Benedict Pictures Corp.      11/2/66   \n",
       "10865                                          Norm-Iris     11/15/66   \n",
       "\n",
       "      vote_count  vote_average  release_year    budget_adj   revenue_adj  \n",
       "0           5562           6.5          2015  1.379999e+08  1.392446e+09  \n",
       "1           6185           7.1          2015  1.379999e+08  3.481613e+08  \n",
       "2           2480           6.3          2015  1.012000e+08  2.716190e+08  \n",
       "3           5292           7.5          2015  1.839999e+08  1.902723e+09  \n",
       "4           2947           7.3          2015  1.747999e+08  1.385749e+09  \n",
       "...          ...           ...           ...           ...           ...  \n",
       "10861         11           7.4          1966  0.000000e+00  0.000000e+00  \n",
       "10862         20           5.7          1966  0.000000e+00  0.000000e+00  \n",
       "10863         11           6.5          1966  0.000000e+00  0.000000e+00  \n",
       "10864         22           5.4          1966  0.000000e+00  0.000000e+00  \n",
       "10865         15           1.5          1966  1.276423e+05  0.000000e+00  \n",
       "\n",
       "[10866 rows x 21 columns]"
      ]
     },
     "execution_count": 3,
     "metadata": {},
     "output_type": "execute_result"
    }
   ],
   "source": [
    "df=pd.read_csv(\"movies.csv\")\n",
    "df"
   ]
  },
  {
   "cell_type": "code",
   "execution_count": 9,
   "id": "6208ad44",
   "metadata": {},
   "outputs": [
    {
     "name": "stdout",
     "output_type": "stream",
     "text": [
      "<class 'pandas.core.frame.DataFrame'>\n",
      "RangeIndex: 10866 entries, 0 to 10865\n",
      "Data columns (total 21 columns):\n",
      " #   Column                Non-Null Count  Dtype  \n",
      "---  ------                --------------  -----  \n",
      " 0   id                    10866 non-null  int64  \n",
      " 1   imdb_id               10856 non-null  object \n",
      " 2   popularity            10866 non-null  float64\n",
      " 3   budget                10866 non-null  int64  \n",
      " 4   revenue               10866 non-null  int64  \n",
      " 5   original_title        10866 non-null  object \n",
      " 6   cast                  10790 non-null  object \n",
      " 7   homepage              2936 non-null   object \n",
      " 8   director              10822 non-null  object \n",
      " 9   tagline               8042 non-null   object \n",
      " 10  keywords              9373 non-null   object \n",
      " 11  overview              10862 non-null  object \n",
      " 12  runtime               10866 non-null  int64  \n",
      " 13  genres                10843 non-null  object \n",
      " 14  production_companies  9836 non-null   object \n",
      " 15  release_date          10866 non-null  object \n",
      " 16  vote_count            10866 non-null  int64  \n",
      " 17  vote_average          10866 non-null  float64\n",
      " 18  release_year          10866 non-null  int64  \n",
      " 19  budget_adj            10866 non-null  float64\n",
      " 20  revenue_adj           10866 non-null  float64\n",
      "dtypes: float64(4), int64(6), object(11)\n",
      "memory usage: 1.7+ MB\n"
     ]
    }
   ],
   "source": [
    "df.info()"
   ]
  },
  {
   "cell_type": "code",
   "execution_count": 8,
   "id": "349b3a9a",
   "metadata": {},
   "outputs": [
    {
     "data": {
      "text/html": [
       "<div>\n",
       "<style scoped>\n",
       "    .dataframe tbody tr th:only-of-type {\n",
       "        vertical-align: middle;\n",
       "    }\n",
       "\n",
       "    .dataframe tbody tr th {\n",
       "        vertical-align: top;\n",
       "    }\n",
       "\n",
       "    .dataframe thead th {\n",
       "        text-align: right;\n",
       "    }\n",
       "</style>\n",
       "<table border=\"1\" class=\"dataframe\">\n",
       "  <thead>\n",
       "    <tr style=\"text-align: right;\">\n",
       "      <th></th>\n",
       "      <th>id</th>\n",
       "      <th>popularity</th>\n",
       "      <th>budget</th>\n",
       "      <th>revenue</th>\n",
       "      <th>runtime</th>\n",
       "      <th>vote_count</th>\n",
       "      <th>vote_average</th>\n",
       "      <th>release_year</th>\n",
       "      <th>budget_adj</th>\n",
       "      <th>revenue_adj</th>\n",
       "    </tr>\n",
       "  </thead>\n",
       "  <tbody>\n",
       "    <tr>\n",
       "      <th>count</th>\n",
       "      <td>10866.000000</td>\n",
       "      <td>10866.000000</td>\n",
       "      <td>1.086600e+04</td>\n",
       "      <td>1.086600e+04</td>\n",
       "      <td>10866.000000</td>\n",
       "      <td>10866.000000</td>\n",
       "      <td>10866.000000</td>\n",
       "      <td>10866.000000</td>\n",
       "      <td>1.086600e+04</td>\n",
       "      <td>1.086600e+04</td>\n",
       "    </tr>\n",
       "    <tr>\n",
       "      <th>mean</th>\n",
       "      <td>66064.177434</td>\n",
       "      <td>0.646441</td>\n",
       "      <td>1.462570e+07</td>\n",
       "      <td>3.982332e+07</td>\n",
       "      <td>102.070863</td>\n",
       "      <td>217.389748</td>\n",
       "      <td>5.974922</td>\n",
       "      <td>2001.322658</td>\n",
       "      <td>1.755104e+07</td>\n",
       "      <td>5.136436e+07</td>\n",
       "    </tr>\n",
       "    <tr>\n",
       "      <th>std</th>\n",
       "      <td>92130.136561</td>\n",
       "      <td>1.000185</td>\n",
       "      <td>3.091321e+07</td>\n",
       "      <td>1.170035e+08</td>\n",
       "      <td>31.381405</td>\n",
       "      <td>575.619058</td>\n",
       "      <td>0.935142</td>\n",
       "      <td>12.812941</td>\n",
       "      <td>3.430616e+07</td>\n",
       "      <td>1.446325e+08</td>\n",
       "    </tr>\n",
       "    <tr>\n",
       "      <th>min</th>\n",
       "      <td>5.000000</td>\n",
       "      <td>0.000065</td>\n",
       "      <td>0.000000e+00</td>\n",
       "      <td>0.000000e+00</td>\n",
       "      <td>0.000000</td>\n",
       "      <td>10.000000</td>\n",
       "      <td>1.500000</td>\n",
       "      <td>1960.000000</td>\n",
       "      <td>0.000000e+00</td>\n",
       "      <td>0.000000e+00</td>\n",
       "    </tr>\n",
       "    <tr>\n",
       "      <th>25%</th>\n",
       "      <td>10596.250000</td>\n",
       "      <td>0.207583</td>\n",
       "      <td>0.000000e+00</td>\n",
       "      <td>0.000000e+00</td>\n",
       "      <td>90.000000</td>\n",
       "      <td>17.000000</td>\n",
       "      <td>5.400000</td>\n",
       "      <td>1995.000000</td>\n",
       "      <td>0.000000e+00</td>\n",
       "      <td>0.000000e+00</td>\n",
       "    </tr>\n",
       "    <tr>\n",
       "      <th>50%</th>\n",
       "      <td>20669.000000</td>\n",
       "      <td>0.383856</td>\n",
       "      <td>0.000000e+00</td>\n",
       "      <td>0.000000e+00</td>\n",
       "      <td>99.000000</td>\n",
       "      <td>38.000000</td>\n",
       "      <td>6.000000</td>\n",
       "      <td>2006.000000</td>\n",
       "      <td>0.000000e+00</td>\n",
       "      <td>0.000000e+00</td>\n",
       "    </tr>\n",
       "    <tr>\n",
       "      <th>75%</th>\n",
       "      <td>75610.000000</td>\n",
       "      <td>0.713817</td>\n",
       "      <td>1.500000e+07</td>\n",
       "      <td>2.400000e+07</td>\n",
       "      <td>111.000000</td>\n",
       "      <td>145.750000</td>\n",
       "      <td>6.600000</td>\n",
       "      <td>2011.000000</td>\n",
       "      <td>2.085325e+07</td>\n",
       "      <td>3.369710e+07</td>\n",
       "    </tr>\n",
       "    <tr>\n",
       "      <th>max</th>\n",
       "      <td>417859.000000</td>\n",
       "      <td>32.985763</td>\n",
       "      <td>4.250000e+08</td>\n",
       "      <td>2.781506e+09</td>\n",
       "      <td>900.000000</td>\n",
       "      <td>9767.000000</td>\n",
       "      <td>9.200000</td>\n",
       "      <td>2015.000000</td>\n",
       "      <td>4.250000e+08</td>\n",
       "      <td>2.827124e+09</td>\n",
       "    </tr>\n",
       "  </tbody>\n",
       "</table>\n",
       "</div>"
      ],
      "text/plain": [
       "                  id    popularity        budget       revenue       runtime  \\\n",
       "count   10866.000000  10866.000000  1.086600e+04  1.086600e+04  10866.000000   \n",
       "mean    66064.177434      0.646441  1.462570e+07  3.982332e+07    102.070863   \n",
       "std     92130.136561      1.000185  3.091321e+07  1.170035e+08     31.381405   \n",
       "min         5.000000      0.000065  0.000000e+00  0.000000e+00      0.000000   \n",
       "25%     10596.250000      0.207583  0.000000e+00  0.000000e+00     90.000000   \n",
       "50%     20669.000000      0.383856  0.000000e+00  0.000000e+00     99.000000   \n",
       "75%     75610.000000      0.713817  1.500000e+07  2.400000e+07    111.000000   \n",
       "max    417859.000000     32.985763  4.250000e+08  2.781506e+09    900.000000   \n",
       "\n",
       "         vote_count  vote_average  release_year    budget_adj   revenue_adj  \n",
       "count  10866.000000  10866.000000  10866.000000  1.086600e+04  1.086600e+04  \n",
       "mean     217.389748      5.974922   2001.322658  1.755104e+07  5.136436e+07  \n",
       "std      575.619058      0.935142     12.812941  3.430616e+07  1.446325e+08  \n",
       "min       10.000000      1.500000   1960.000000  0.000000e+00  0.000000e+00  \n",
       "25%       17.000000      5.400000   1995.000000  0.000000e+00  0.000000e+00  \n",
       "50%       38.000000      6.000000   2006.000000  0.000000e+00  0.000000e+00  \n",
       "75%      145.750000      6.600000   2011.000000  2.085325e+07  3.369710e+07  \n",
       "max     9767.000000      9.200000   2015.000000  4.250000e+08  2.827124e+09  "
      ]
     },
     "execution_count": 8,
     "metadata": {},
     "output_type": "execute_result"
    }
   ],
   "source": [
    "df.describe()"
   ]
  },
  {
   "cell_type": "code",
   "execution_count": 11,
   "id": "8774bcba",
   "metadata": {},
   "outputs": [
    {
     "data": {
      "text/plain": [
       "(10866, 21)"
      ]
     },
     "execution_count": 11,
     "metadata": {},
     "output_type": "execute_result"
    }
   ],
   "source": [
    "df.shape"
   ]
  },
  {
   "cell_type": "code",
   "execution_count": 12,
   "id": "9f29f58e",
   "metadata": {},
   "outputs": [
    {
     "data": {
      "text/plain": [
       "id                      10865\n",
       "imdb_id                 10855\n",
       "popularity              10814\n",
       "budget                    557\n",
       "revenue                  4702\n",
       "original_title          10571\n",
       "cast                    10719\n",
       "homepage                 2896\n",
       "director                 5067\n",
       "tagline                  7997\n",
       "keywords                 8804\n",
       "overview                10847\n",
       "runtime                   247\n",
       "genres                   2039\n",
       "production_companies     7445\n",
       "release_date             5909\n",
       "vote_count               1289\n",
       "vote_average               72\n",
       "release_year               56\n",
       "budget_adj               2614\n",
       "revenue_adj              4840\n",
       "dtype: int64"
      ]
     },
     "execution_count": 12,
     "metadata": {},
     "output_type": "execute_result"
    }
   ],
   "source": [
    "df.nunique() #to find no of unique columns in each columnd"
   ]
  },
  {
   "cell_type": "code",
   "execution_count": 14,
   "id": "7fdc05a4",
   "metadata": {},
   "outputs": [
    {
     "data": {
      "text/plain": [
       "id                         0\n",
       "imdb_id                   10\n",
       "popularity                 0\n",
       "budget                     0\n",
       "revenue                    0\n",
       "original_title             0\n",
       "cast                      76\n",
       "homepage                7930\n",
       "director                  44\n",
       "tagline                 2824\n",
       "keywords                1493\n",
       "overview                   4\n",
       "runtime                    0\n",
       "genres                    23\n",
       "production_companies    1030\n",
       "release_date               0\n",
       "vote_count                 0\n",
       "vote_average               0\n",
       "release_year               0\n",
       "budget_adj                 0\n",
       "revenue_adj                0\n",
       "dtype: int64"
      ]
     },
     "execution_count": 14,
     "metadata": {},
     "output_type": "execute_result"
    }
   ],
   "source": [
    "df.isnull().sum() # to find no of null values in each column"
   ]
  },
  {
   "cell_type": "code",
   "execution_count": null,
   "id": "ea81ac65",
   "metadata": {},
   "outputs": [],
   "source": [
    "df.drop(['id','imdb_id', 'homepage','overview'],axis=1,inplace=True)"
   ]
  },
  {
   "cell_type": "code",
   "execution_count": 30,
   "id": "73564156",
   "metadata": {
    "scrolled": true
   },
   "outputs": [
    {
     "name": "stdout",
     "output_type": "stream",
     "text": [
      "<class 'pandas.core.frame.DataFrame'>\n",
      "RangeIndex: 10866 entries, 0 to 10865\n",
      "Data columns (total 17 columns):\n",
      " #   Column                Non-Null Count  Dtype  \n",
      "---  ------                --------------  -----  \n",
      " 0   popularity            10866 non-null  float64\n",
      " 1   budget                10866 non-null  int64  \n",
      " 2   revenue               10866 non-null  int64  \n",
      " 3   original_title        10866 non-null  object \n",
      " 4   cast                  10790 non-null  object \n",
      " 5   director              10822 non-null  object \n",
      " 6   tagline               8042 non-null   object \n",
      " 7   keywords              9373 non-null   object \n",
      " 8   runtime               10866 non-null  int64  \n",
      " 9   genres                10843 non-null  object \n",
      " 10  production_companies  9836 non-null   object \n",
      " 11  release_date          10866 non-null  object \n",
      " 12  vote_count            10866 non-null  int64  \n",
      " 13  vote_average          10866 non-null  float64\n",
      " 14  release_year          10866 non-null  int64  \n",
      " 15  budget_adj            10866 non-null  float64\n",
      " 16  revenue_adj           10866 non-null  float64\n",
      "dtypes: float64(4), int64(5), object(8)\n",
      "memory usage: 1.4+ MB\n"
     ]
    }
   ],
   "source": [
    "df.info()"
   ]
  },
  {
   "cell_type": "code",
   "execution_count": 31,
   "id": "517846f5",
   "metadata": {},
   "outputs": [
    {
     "name": "stdout",
     "output_type": "stream",
     "text": [
      "<class 'pandas.core.frame.DataFrame'>\n",
      "Int64Index: 7032 entries, 0 to 10865\n",
      "Data columns (total 17 columns):\n",
      " #   Column                Non-Null Count  Dtype  \n",
      "---  ------                --------------  -----  \n",
      " 0   popularity            7032 non-null   float64\n",
      " 1   budget                7032 non-null   int64  \n",
      " 2   revenue               7032 non-null   int64  \n",
      " 3   original_title        7032 non-null   object \n",
      " 4   cast                  7032 non-null   object \n",
      " 5   director              7032 non-null   object \n",
      " 6   tagline               7032 non-null   object \n",
      " 7   keywords              7032 non-null   object \n",
      " 8   runtime               7032 non-null   int64  \n",
      " 9   genres                7032 non-null   object \n",
      " 10  production_companies  7032 non-null   object \n",
      " 11  release_date          7032 non-null   object \n",
      " 12  vote_count            7032 non-null   int64  \n",
      " 13  vote_average          7032 non-null   float64\n",
      " 14  release_year          7032 non-null   int64  \n",
      " 15  budget_adj            7032 non-null   float64\n",
      " 16  revenue_adj           7032 non-null   float64\n",
      "dtypes: float64(4), int64(5), object(8)\n",
      "memory usage: 988.9+ KB\n"
     ]
    }
   ],
   "source": [
    "df.dropna(inplace = True) #dropped all null values in each column.only not null values are present.\n",
    "df.info()"
   ]
  },
  {
   "cell_type": "code",
   "execution_count": 32,
   "id": "441b22bf",
   "metadata": {},
   "outputs": [],
   "source": [
    "# to replace all the zero value in coloumn with mean value.\n",
    "df['popularity']=df['popularity'].replace(0,df['popularity'].mean())\n",
    "df['revenue']=df['revenue'].replace(0,df['revenue'].mean())\n",
    "df['runtime']=df['runtime'].replace(0,df['runtime'].mean())\n",
    "df['budget_adj']=df['budget_adj'].replace(0,df['budget_adj'].mean())\n",
    "df['revenue_adj']=df['revenue_adj'].replace(0,df['revenue_adj'].mean())"
   ]
  },
  {
   "cell_type": "code",
   "execution_count": 33,
   "id": "78d63b58",
   "metadata": {},
   "outputs": [
    {
     "data": {
      "text/html": [
       "<div>\n",
       "<style scoped>\n",
       "    .dataframe tbody tr th:only-of-type {\n",
       "        vertical-align: middle;\n",
       "    }\n",
       "\n",
       "    .dataframe tbody tr th {\n",
       "        vertical-align: top;\n",
       "    }\n",
       "\n",
       "    .dataframe thead th {\n",
       "        text-align: right;\n",
       "    }\n",
       "</style>\n",
       "<table border=\"1\" class=\"dataframe\">\n",
       "  <thead>\n",
       "    <tr style=\"text-align: right;\">\n",
       "      <th></th>\n",
       "      <th>popularity</th>\n",
       "      <th>budget</th>\n",
       "      <th>revenue</th>\n",
       "      <th>runtime</th>\n",
       "      <th>vote_count</th>\n",
       "      <th>vote_average</th>\n",
       "      <th>release_year</th>\n",
       "      <th>budget_adj</th>\n",
       "      <th>revenue_adj</th>\n",
       "    </tr>\n",
       "  </thead>\n",
       "  <tbody>\n",
       "    <tr>\n",
       "      <th>count</th>\n",
       "      <td>7032.000000</td>\n",
       "      <td>7.032000e+03</td>\n",
       "      <td>7.032000e+03</td>\n",
       "      <td>7032.000000</td>\n",
       "      <td>7032.000000</td>\n",
       "      <td>7032.000000</td>\n",
       "      <td>7032.000000</td>\n",
       "      <td>7.032000e+03</td>\n",
       "      <td>7.032000e+03</td>\n",
       "    </tr>\n",
       "    <tr>\n",
       "      <th>mean</th>\n",
       "      <td>0.829463</td>\n",
       "      <td>2.084426e+07</td>\n",
       "      <td>8.339878e+07</td>\n",
       "      <td>104.882895</td>\n",
       "      <td>312.684300</td>\n",
       "      <td>6.013239</td>\n",
       "      <td>1999.383817</td>\n",
       "      <td>3.484685e+07</td>\n",
       "      <td>1.074617e+08</td>\n",
       "    </tr>\n",
       "    <tr>\n",
       "      <th>std</th>\n",
       "      <td>1.180185</td>\n",
       "      <td>3.602117e+07</td>\n",
       "      <td>1.330625e+08</td>\n",
       "      <td>23.704753</td>\n",
       "      <td>693.182087</td>\n",
       "      <td>0.876516</td>\n",
       "      <td>13.468216</td>\n",
       "      <td>3.492787e+07</td>\n",
       "      <td>1.631156e+08</td>\n",
       "    </tr>\n",
       "    <tr>\n",
       "      <th>min</th>\n",
       "      <td>0.000188</td>\n",
       "      <td>0.000000e+00</td>\n",
       "      <td>2.000000e+00</td>\n",
       "      <td>4.000000</td>\n",
       "      <td>10.000000</td>\n",
       "      <td>1.500000</td>\n",
       "      <td>1960.000000</td>\n",
       "      <td>9.693980e-01</td>\n",
       "      <td>2.861934e+00</td>\n",
       "    </tr>\n",
       "    <tr>\n",
       "      <th>25%</th>\n",
       "      <td>0.278573</td>\n",
       "      <td>0.000000e+00</td>\n",
       "      <td>2.824752e+07</td>\n",
       "      <td>92.000000</td>\n",
       "      <td>24.000000</td>\n",
       "      <td>5.500000</td>\n",
       "      <td>1992.000000</td>\n",
       "      <td>2.037761e+07</td>\n",
       "      <td>3.923478e+07</td>\n",
       "    </tr>\n",
       "    <tr>\n",
       "      <th>50%</th>\n",
       "      <td>0.506241</td>\n",
       "      <td>5.000000e+06</td>\n",
       "      <td>5.931630e+07</td>\n",
       "      <td>101.000000</td>\n",
       "      <td>73.000000</td>\n",
       "      <td>6.100000</td>\n",
       "      <td>2003.000000</td>\n",
       "      <td>2.500950e+07</td>\n",
       "      <td>7.643072e+07</td>\n",
       "    </tr>\n",
       "    <tr>\n",
       "      <th>75%</th>\n",
       "      <td>0.956217</td>\n",
       "      <td>2.600000e+07</td>\n",
       "      <td>5.931630e+07</td>\n",
       "      <td>114.000000</td>\n",
       "      <td>263.000000</td>\n",
       "      <td>6.600000</td>\n",
       "      <td>2010.000000</td>\n",
       "      <td>3.463336e+07</td>\n",
       "      <td>7.643072e+07</td>\n",
       "    </tr>\n",
       "    <tr>\n",
       "      <th>max</th>\n",
       "      <td>32.985763</td>\n",
       "      <td>4.250000e+08</td>\n",
       "      <td>2.781506e+09</td>\n",
       "      <td>705.000000</td>\n",
       "      <td>9767.000000</td>\n",
       "      <td>8.400000</td>\n",
       "      <td>2015.000000</td>\n",
       "      <td>4.250000e+08</td>\n",
       "      <td>2.827124e+09</td>\n",
       "    </tr>\n",
       "  </tbody>\n",
       "</table>\n",
       "</div>"
      ],
      "text/plain": [
       "        popularity        budget       revenue      runtime   vote_count  \\\n",
       "count  7032.000000  7.032000e+03  7.032000e+03  7032.000000  7032.000000   \n",
       "mean      0.829463  2.084426e+07  8.339878e+07   104.882895   312.684300   \n",
       "std       1.180185  3.602117e+07  1.330625e+08    23.704753   693.182087   \n",
       "min       0.000188  0.000000e+00  2.000000e+00     4.000000    10.000000   \n",
       "25%       0.278573  0.000000e+00  2.824752e+07    92.000000    24.000000   \n",
       "50%       0.506241  5.000000e+06  5.931630e+07   101.000000    73.000000   \n",
       "75%       0.956217  2.600000e+07  5.931630e+07   114.000000   263.000000   \n",
       "max      32.985763  4.250000e+08  2.781506e+09   705.000000  9767.000000   \n",
       "\n",
       "       vote_average  release_year    budget_adj   revenue_adj  \n",
       "count   7032.000000   7032.000000  7.032000e+03  7.032000e+03  \n",
       "mean       6.013239   1999.383817  3.484685e+07  1.074617e+08  \n",
       "std        0.876516     13.468216  3.492787e+07  1.631156e+08  \n",
       "min        1.500000   1960.000000  9.693980e-01  2.861934e+00  \n",
       "25%        5.500000   1992.000000  2.037761e+07  3.923478e+07  \n",
       "50%        6.100000   2003.000000  2.500950e+07  7.643072e+07  \n",
       "75%        6.600000   2010.000000  3.463336e+07  7.643072e+07  \n",
       "max        8.400000   2015.000000  4.250000e+08  2.827124e+09  "
      ]
     },
     "execution_count": 33,
     "metadata": {},
     "output_type": "execute_result"
    }
   ],
   "source": [
    "df.describe()"
   ]
  },
  {
   "cell_type": "code",
   "execution_count": 35,
   "id": "b841f4d7",
   "metadata": {},
   "outputs": [
    {
     "data": {
      "text/plain": [
       "1"
      ]
     },
     "execution_count": 35,
     "metadata": {},
     "output_type": "execute_result"
    }
   ],
   "source": [
    "df.duplicated().sum() #calculate sum of duplicate values "
   ]
  },
  {
   "cell_type": "code",
   "execution_count": 36,
   "id": "b036b681",
   "metadata": {},
   "outputs": [],
   "source": [
    "df.drop_duplicates(inplace=True) #drop duplicate values"
   ]
  },
  {
   "cell_type": "code",
   "execution_count": 37,
   "id": "60fae4de",
   "metadata": {},
   "outputs": [
    {
     "data": {
      "text/plain": [
       "0"
      ]
     },
     "execution_count": 37,
     "metadata": {},
     "output_type": "execute_result"
    }
   ],
   "source": [
    "df.duplicated().sum()"
   ]
  },
  {
   "cell_type": "code",
   "execution_count": 38,
   "id": "84c2fbb2",
   "metadata": {},
   "outputs": [
    {
     "name": "stdout",
     "output_type": "stream",
     "text": [
      "<class 'pandas.core.frame.DataFrame'>\n",
      "Int64Index: 7031 entries, 0 to 10865\n",
      "Data columns (total 17 columns):\n",
      " #   Column                Non-Null Count  Dtype  \n",
      "---  ------                --------------  -----  \n",
      " 0   popularity            7031 non-null   float64\n",
      " 1   budget                7031 non-null   int64  \n",
      " 2   revenue               7031 non-null   float64\n",
      " 3   original_title        7031 non-null   object \n",
      " 4   cast                  7031 non-null   object \n",
      " 5   director              7031 non-null   object \n",
      " 6   tagline               7031 non-null   object \n",
      " 7   keywords              7031 non-null   object \n",
      " 8   runtime               7031 non-null   float64\n",
      " 9   genres                7031 non-null   object \n",
      " 10  production_companies  7031 non-null   object \n",
      " 11  release_date          7031 non-null   object \n",
      " 12  vote_count            7031 non-null   int64  \n",
      " 13  vote_average          7031 non-null   float64\n",
      " 14  release_year          7031 non-null   int64  \n",
      " 15  budget_adj            7031 non-null   float64\n",
      " 16  revenue_adj           7031 non-null   float64\n",
      "dtypes: float64(6), int64(3), object(8)\n",
      "memory usage: 988.7+ KB\n"
     ]
    }
   ],
   "source": [
    "df.info() "
   ]
  },
  {
   "cell_type": "code",
   "execution_count": 41,
   "id": "a633f2c2",
   "metadata": {},
   "outputs": [
    {
     "data": {
      "text/plain": [
       "array([[<AxesSubplot:title={'center':'popularity'}>,\n",
       "        <AxesSubplot:title={'center':'budget'}>,\n",
       "        <AxesSubplot:title={'center':'revenue'}>],\n",
       "       [<AxesSubplot:title={'center':'runtime'}>,\n",
       "        <AxesSubplot:title={'center':'vote_count'}>,\n",
       "        <AxesSubplot:title={'center':'vote_average'}>],\n",
       "       [<AxesSubplot:title={'center':'release_year'}>,\n",
       "        <AxesSubplot:title={'center':'budget_adj'}>,\n",
       "        <AxesSubplot:title={'center':'revenue_adj'}>]], dtype=object)"
      ]
     },
     "execution_count": 41,
     "metadata": {},
     "output_type": "execute_result"
    },
    {
     "data": {
      "image/png": "[encoded data removed]",
      "text/plain": [
       "<Figure size 1440x1440 with 9 Axes>"
      ]
     },
     "metadata": {
      "needs_background": "light"
     },
     "output_type": "display_data"
    }
   ],
   "source": [
    "#visualizing each column\n",
    "df.hist(figsize=(20,20))"
   ]
  },
  {
   "cell_type": "markdown",
   "id": "a4373bce",
   "metadata": {},
   "source": [
    "<h4>Exploration with Visuals and Conclusions</h4>\n",
    "\n",
    "<h3>The questions about this dataset:</h3>\n",
    "\n",
    "<h4>1) Does higher budget mean higher popularity ?</h4>\n",
    "\n",
    "<h4>2) Do the runtime affect the vote count and popularity?</h4>\n",
    "\n",
    "<h4>3) Is Higher popularity means higher profits ?</h4>\n",
    "\n",
    "<h4>4) What are the Features Associate with Top 10 Revenue Movies ?</h4>"
   ]
  },
  {
   "cell_type": "markdown",
   "id": "de23595f",
   "metadata": {},
   "source": [
    "<h2>EVALUATING QUESTION 1</h2>\n",
    "\n",
    "<h4>1) Does higher budget mean higher popularity ?</h4>"
   ]
  },
  {
   "cell_type": "code",
   "execution_count": 44,
   "id": "9642c00b",
   "metadata": {},
   "outputs": [
    {
     "data": {
      "text/plain": [
       "Text(0, 0.5, 'Popularity')"
      ]
     },
     "execution_count": 44,
     "metadata": {},
     "output_type": "execute_result"
    },
    {
     "data": {
      "image/png": "[encoded data removed]",
      "text/plain": [
       "<Figure size 432x288 with 1 Axes>"
      ]
     },
     "metadata": {
      "needs_background": "light"
     },
     "output_type": "display_data"
    }
   ],
   "source": [
    "x=df['budget']\n",
    "y=df['popularity']\n",
    "plt.scatter(x,y)\n",
    "plt.title('Average Popularity by Different budget',fontsize=20)\n",
    "plt.xlabel('Budget',fontsize=15)\n",
    "plt.ylabel('Popularity',fontsize=15)"
   ]
  },
  {
   "cell_type": "markdown",
   "id": "37a52a37",
   "metadata": {},
   "source": [
    "<p>As per the above scatter plot its very difficult to observe strong relationship between popularity and budget. So we use other method to observe the relationship between them. In this method we divide data set into two groups on the basis of median.</p>"
   ]
  },
  {
   "cell_type": "code",
   "execution_count": 47,
   "id": "74a9e151",
   "metadata": {},
   "outputs": [],
   "source": [
    "# divide the budget into two groups : lesser_cost and more_cost.\n",
    "med = df['budget'].median()\n",
    "#print(med)\n",
    "lesser_cost =  df.query('budget < {}'.format(med))\n",
    "more_cost =  df.query('budget >= {}'.format(med))"
   ]
  },
  {
   "cell_type": "code",
   "execution_count": 48,
   "id": "81de702f",
   "metadata": {},
   "outputs": [
    {
     "name": "stdout",
     "output_type": "stream",
     "text": [
      "0.4306482795668293\n",
      "1.2268718955139113\n"
     ]
    }
   ],
   "source": [
    "# check lesser cost and more cost  mean values \n",
    "mean_popularity_low_budget = lesser_cost['popularity'].mean()\n",
    "mean_popularity_high_budget = more_cost['popularity'].mean()\n",
    "print(mean_popularity_low_budget)\n",
    "print(mean_popularity_high_budget)"
   ]
  },
  {
   "cell_type": "code",
   "execution_count": 50,
   "id": "ac13316c",
   "metadata": {},
   "outputs": [
    {
     "data": {
      "text/plain": [
       "Text(0, 0.5, 'Mean Popularity')"
      ]
     },
     "execution_count": 50,
     "metadata": {},
     "output_type": "execute_result"
    },
    {
     "data": {
      "image/png": "[encoded data removed]",
      "text/plain": [
       "<Figure size 432x288 with 1 Axes>"
      ]
     },
     "metadata": {
      "needs_background": "light"
     },
     "output_type": "display_data"
    }
   ],
   "source": [
    "x=['Low','High']\n",
    "y=[mean_popularity_low_budget,mean_popularity_high_budget]\n",
    "plt.bar(x,y)\n",
    "plt.title('Mean Popularity by all Budget')\n",
    "plt.xlabel('Budgets')\n",
    "plt.ylabel('Mean Popularity')"
   ]
  },
  {
   "cell_type": "code",
   "execution_count": 52,
   "id": "e83da568",
   "metadata": {},
   "outputs": [
    {
     "data": {
      "text/plain": [
       "64.898675962706"
      ]
     },
     "execution_count": 52,
     "metadata": {},
     "output_type": "execute_result"
    }
   ],
   "source": [
    "increase_percentage = (mean_popularity_high_budget - mean_popularity_low_budget) / mean_popularity_high_budget * 100\n",
    "increase_percentage"
   ]
  },
  {
   "cell_type": "markdown",
   "id": "1d05adcb",
   "metadata": {},
   "source": [
    "<h3>Answer for question 1</h3>\n",
    "\n",
    "<h4>From the above bar plot we conclude that higher budget movie gains higher popularity. Higher budget movie have Mean popularity more than twice than the Mean popularity of lower budget movie.High budget movies are around 64% more popular than low budget movies.</h4>"
   ]
  },
  {
   "cell_type": "markdown",
   "id": "5fef986d",
   "metadata": {},
   "source": [
    "<h3>EVALUATING QUESTION 2<h3>\n",
    "<h4>2) Do the runtime affect the vote count and popularity?</h4>"
   ]
  },
  {
   "cell_type": "code",
   "execution_count": 58,
   "id": "2c0077c5",
   "metadata": {},
   "outputs": [
    {
     "data": {
      "text/plain": [
       "Text(0, 0.5, 'Popularity')"
      ]
     },
     "execution_count": 58,
     "metadata": {},
     "output_type": "execute_result"
    },
    {
     "data": {
      "image/png": "[encoded data removed]",
      "text/plain": [
       "<Figure size 432x288 with 1 Axes>"
      ]
     },
     "metadata": {
      "needs_background": "light"
     },
     "output_type": "display_data"
    }
   ],
   "source": [
    "x=df['runtime']\n",
    "y=df['popularity']\n",
    "plt.scatter(x,y)\n",
    "plt.title('Average Popularity by different Runtime',fontsize=20)\n",
    "plt.xlabel('Runtime',fontsize=15)\n",
    "plt.ylabel('Popularity',fontsize=15)"
   ]
  },
  {
   "cell_type": "code",
   "execution_count": 64,
   "id": "3b72260d",
   "metadata": {},
   "outputs": [],
   "source": [
    "# There 3 groups with query().  short_movies < 100mins . Medium_mmovies < 200 mins .Large Movies>200 mins\n",
    "short_movies =  df.query('runtime < {}'.format(100))\n",
    "med_movies =  df.query('runtime < {}'.format(200))\n",
    "large_movies = df.query('runtime > {}'.format(200))"
   ]
  },
  {
   "cell_type": "code",
   "execution_count": 65,
   "id": "8a0d5954",
   "metadata": {},
   "outputs": [
    {
     "name": "stdout",
     "output_type": "stream",
     "text": [
      "0.6064438760815821\n",
      "0.8296142100228452\n",
      "0.7040434999999999\n"
     ]
    }
   ],
   "source": [
    "short_mov_mean_popularity=short_movies['popularity'].mean()\n",
    "med_mov_mean_popularity=med_movies['popularity'].mean()\n",
    "large_mov_mean_popularity=large_movies['popularity'].mean()\n",
    "print(short_mov_mean_popularity)\n",
    "print(med_mov_mean_popularity)\n",
    "print(large_mov_mean_popularity)"
   ]
  },
  {
   "cell_type": "code",
   "execution_count": 66,
   "id": "77315350",
   "metadata": {},
   "outputs": [
    {
     "data": {
      "text/plain": [
       "Text(0, 0.5, 'Average Popularity')"
      ]
     },
     "execution_count": 66,
     "metadata": {},
     "output_type": "execute_result"
    },
    {
     "data": {
      "image/png": "[encoded data removed]",
      "text/plain": [
       "<Figure size 432x288 with 1 Axes>"
      ]
     },
     "metadata": {
      "needs_background": "light"
     },
     "output_type": "display_data"
    }
   ],
   "source": [
    "x=['short','medium','large']\n",
    "y=[short_mov_mean_popularity,med_mov_mean_popularity,large_mov_mean_popularity]\n",
    "plt.bar(x,y)\n",
    "plt.title('Average Popularity by Different Runtime')\n",
    "plt.xlabel('Runtime')\n",
    "plt.ylabel('Average Popularity')"
   ]
  },
  {
   "cell_type": "markdown",
   "id": "9191195b",
   "metadata": {},
   "source": [
    "<h3>ANSWER FOR QUESTION 2</h3>\n",
    "\n",
    "<h4>From the above two plots, we can simply say that If the movies are within 200 minutes,it will be more popular. Once the movies run over 200 minutes, it's hard for them to gain high popularity</h4>"
   ]
  },
  {
   "cell_type": "markdown",
   "id": "d7019fdc",
   "metadata": {},
   "source": [
    "<h3>EVALUATING QUESTION 3</h3>\n",
    "\n",
    "<h4>3) Is Higher popularity means higher profits ?</h4>"
   ]
  },
  {
   "cell_type": "code",
   "execution_count": 70,
   "id": "8e9be40d",
   "metadata": {},
   "outputs": [],
   "source": [
    "# calculation for the mean of popularity \n",
    "mean = df['popularity'].median()\n",
    "low_popularity =  df.query('popularity < {}'.format(mean))\n",
    "high_popularity =  df.query('popularity >= {}'.format(mean))"
   ]
  },
  {
   "cell_type": "code",
   "execution_count": 69,
   "id": "4b8e8b81",
   "metadata": {},
   "outputs": [
    {
     "name": "stdout",
     "output_type": "stream",
     "text": [
      "<class 'pandas.core.frame.DataFrame'>\n",
      "Int64Index: 7031 entries, 0 to 10865\n",
      "Data columns (total 18 columns):\n",
      " #   Column                Non-Null Count  Dtype  \n",
      "---  ------                --------------  -----  \n",
      " 0   popularity            7031 non-null   float64\n",
      " 1   budget                7031 non-null   int64  \n",
      " 2   revenue               7031 non-null   float64\n",
      " 3   original_title        7031 non-null   object \n",
      " 4   cast                  7031 non-null   object \n",
      " 5   director              7031 non-null   object \n",
      " 6   tagline               7031 non-null   object \n",
      " 7   keywords              7031 non-null   object \n",
      " 8   runtime               7031 non-null   float64\n",
      " 9   genres                7031 non-null   object \n",
      " 10  production_companies  7031 non-null   object \n",
      " 11  release_date          7031 non-null   object \n",
      " 12  vote_count            7031 non-null   int64  \n",
      " 13  vote_average          7031 non-null   float64\n",
      " 14  release_year          7031 non-null   int64  \n",
      " 15  budget_adj            7031 non-null   float64\n",
      " 16  revenue_adj           7031 non-null   float64\n",
      " 17  profit                7031 non-null   float64\n",
      "dtypes: float64(7), int64(3), object(8)\n",
      "memory usage: 1.0+ MB\n"
     ]
    }
   ],
   "source": [
    "# creating a new profit column\n",
    "df['profit']=df['revenue']-df['budget']\n",
    "df.info()"
   ]
  },
  {
   "cell_type": "code",
   "execution_count": 74,
   "id": "96fa0e96",
   "metadata": {},
   "outputs": [
    {
     "name": "stdout",
     "output_type": "stream",
     "text": [
      "40101960.92373918 85026751.41183992\n"
     ]
    }
   ],
   "source": [
    "profit_low_popular_movies=low_popularity['profit'].mean()\n",
    "profit_more_popular_movies=high_popularity['profit'].mean()\n",
    "print(profit_low_popular_movies,profit_more_popular_movies)"
   ]
  },
  {
   "cell_type": "code",
   "execution_count": 76,
   "id": "6dcb6231",
   "metadata": {},
   "outputs": [
    {
     "data": {
      "text/plain": [
       "Text(0, 0.5, 'Average Profit')"
      ]
     },
     "execution_count": 76,
     "metadata": {},
     "output_type": "execute_result"
    },
    {
     "data": {
      "image/png": "[encoded data removed]",
      "text/plain": [
       "<Figure size 432x288 with 1 Axes>"
      ]
     },
     "metadata": {
      "needs_background": "light"
     },
     "output_type": "display_data"
    }
   ],
   "source": [
    "x=['Low','High']\n",
    "y=[profit_low_popular_movies,profit_more_popular_movies]\n",
    "plt.bar(x,y)\n",
    "plt.title('Average profit by Different Popularity')\n",
    "plt.xlabel('Popularity')\n",
    "plt.ylabel('Average Profit')"
   ]
  },
  {
   "cell_type": "markdown",
   "id": "171e270c",
   "metadata": {},
   "source": [
    "<h3>ANSWER FOR QUESTION 3</h3>\n",
    "\n",
    "<h4>From the above graph we observe that higher popularity leads to more Average profit.</h4>"
   ]
  },
  {
   "cell_type": "markdown",
   "id": "d11fa143",
   "metadata": {},
   "source": [
    "<h3>EVALUATING QUESTION 4</h3>\n",
    "\n",
    "<h4>4) What are the Features Associate with Top 10 Revenue Movies ?</h4>"
   ]
  },
  {
   "cell_type": "code",
   "execution_count": 77,
   "id": "83eff009",
   "metadata": {},
   "outputs": [
    {
     "data": {
      "text/plain": [
       "array([[<AxesSubplot:title={'center':'popularity'}>,\n",
       "        <AxesSubplot:title={'center':'budget'}>,\n",
       "        <AxesSubplot:title={'center':'revenue'}>],\n",
       "       [<AxesSubplot:title={'center':'runtime'}>,\n",
       "        <AxesSubplot:title={'center':'vote_count'}>,\n",
       "        <AxesSubplot:title={'center':'vote_average'}>],\n",
       "       [<AxesSubplot:title={'center':'release_year'}>,\n",
       "        <AxesSubplot:title={'center':'budget_adj'}>,\n",
       "        <AxesSubplot:title={'center':'revenue_adj'}>],\n",
       "       [<AxesSubplot:title={'center':'profit'}>, <AxesSubplot:>,\n",
       "        <AxesSubplot:>]], dtype=object)"
      ]
     },
     "execution_count": 77,
     "metadata": {},
     "output_type": "execute_result"
    },
    {
     "data": {
      "image/png": "[encoded data removed]",
      "text/plain": [
       "<Figure size 1440x1440 with 12 Axes>"
      ]
     },
     "metadata": {
      "needs_background": "light"
     },
     "output_type": "display_data"
    }
   ],
   "source": [
    "top10_revenue = df.nlargest(10,'revenue')\n",
    "top10_revenue.hist(figsize=(20,20))"
   ]
  },
  {
   "cell_type": "markdown",
   "id": "496d961d",
   "metadata": {},
   "source": [
    "<h3>ANSWER FOR QUESTION 4</h3>\n",
    "\n",
    "<h4>From the above plot we conclude that Runtime ranges from 100 mins to 200 mins. The released year are between 1995 to 2015 leads to top 10 revenue movies.</h4>"
   ]
  },
  {
   "cell_type": "markdown",
   "id": "25521f89",
   "metadata": {},
   "source": [
    "<h2>CONCLUSION</h2>\n",
    "<h4>1) Higher budget movie gains higher popularity. Higher budget movie have Mean popularity more than twice than the Mean popularity of lower budget movie.</h4>\n",
    "\n",
    "<h4>2) If the movies are within 200 minutes,it will be more popular. Once the movies run over 200 minutes, it's hard for them to gain high popularity.</h4>\n",
    "\n",
    "<h4>3) Higher popularity leads to more Average profit.</h4>\n",
    "\n",
    "<h4>4) Runtime ranges from 100 mins to 200 mins. The released year are between 1995 to 2015 leads to top 10 revenue movies.</h4>"
   ]
  }
 ],
 "metadata": {
  "kernelspec": {
   "display_name": "Python 3 (ipykernel)",
   "language": "python",
   "name": "python3"
  },
  "language_info": {
   "codemirror_mode": {
    "name": "ipython",
    "version": 3
   },
   "file_extension": ".py",
   "mimetype": "text/x-python",
   "name": "python",
   "nbconvert_exporter": "python",
   "pygments_lexer": "ipython3",
   "version": "3.9.7"
  }
 },
 "nbformat": 4,
 "nbformat_minor": 5
}
